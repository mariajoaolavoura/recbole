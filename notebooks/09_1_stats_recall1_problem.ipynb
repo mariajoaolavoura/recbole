{
 "cells": [
  {
   "cell_type": "code",
   "execution_count": 1,
   "metadata": {},
   "outputs": [],
   "source": [
    "import pandas as pd"
   ]
  },
  {
   "cell_type": "code",
   "execution_count": null,
   "metadata": {},
   "outputs": [],
   "source": [
    "read_path = '../../measuring_forgetting/notebooks/output/goodreads_dump/pos_rates_only/sample_2012-07_until_2015-01/'\n",
    "base_filename = 'inter_dedup_coldstart_3stars_4x714k'"
   ]
  },
  {
   "cell_type": "code",
   "execution_count": 3,
   "metadata": {},
   "outputs": [
    {
     "data": {
      "text/html": [
       "<div>\n",
       "<style scoped>\n",
       "    .dataframe tbody tr th:only-of-type {\n",
       "        vertical-align: middle;\n",
       "    }\n",
       "\n",
       "    .dataframe tbody tr th {\n",
       "        vertical-align: top;\n",
       "    }\n",
       "\n",
       "    .dataframe thead th {\n",
       "        text-align: right;\n",
       "    }\n",
       "</style>\n",
       "<table border=\"1\" class=\"dataframe\">\n",
       "  <thead>\n",
       "    <tr style=\"text-align: right;\">\n",
       "      <th></th>\n",
       "      <th>user_id</th>\n",
       "      <th>book_id</th>\n",
       "      <th>timestamp</th>\n",
       "      <th>date</th>\n",
       "    </tr>\n",
       "  </thead>\n",
       "  <tbody>\n",
       "    <tr>\n",
       "      <th>205</th>\n",
       "      <td>8842281e1d1347389f2ab93d60773d4d</td>\n",
       "      <td>25019</td>\n",
       "      <td>1.420088e+09</td>\n",
       "      <td>2015-01-01</td>\n",
       "    </tr>\n",
       "    <tr>\n",
       "      <th>216</th>\n",
       "      <td>8842281e1d1347389f2ab93d60773d4d</td>\n",
       "      <td>1969280</td>\n",
       "      <td>1.414814e+09</td>\n",
       "      <td>2014-11-01</td>\n",
       "    </tr>\n",
       "    <tr>\n",
       "      <th>217</th>\n",
       "      <td>8842281e1d1347389f2ab93d60773d4d</td>\n",
       "      <td>17290220</td>\n",
       "      <td>1.414814e+09</td>\n",
       "      <td>2014-11-01</td>\n",
       "    </tr>\n",
       "    <tr>\n",
       "      <th>219</th>\n",
       "      <td>8842281e1d1347389f2ab93d60773d4d</td>\n",
       "      <td>6882</td>\n",
       "      <td>1.412136e+09</td>\n",
       "      <td>2014-10-01</td>\n",
       "    </tr>\n",
       "    <tr>\n",
       "      <th>220</th>\n",
       "      <td>8842281e1d1347389f2ab93d60773d4d</td>\n",
       "      <td>6954929</td>\n",
       "      <td>1.412136e+09</td>\n",
       "      <td>2014-10-01</td>\n",
       "    </tr>\n",
       "    <tr>\n",
       "      <th>...</th>\n",
       "      <td>...</td>\n",
       "      <td>...</td>\n",
       "      <td>...</td>\n",
       "      <td>...</td>\n",
       "    </tr>\n",
       "    <tr>\n",
       "      <th>2856847</th>\n",
       "      <td>339dfe8faf01cc7080240644db9ecaec</td>\n",
       "      <td>6070950</td>\n",
       "      <td>1.343794e+09</td>\n",
       "      <td>2012-08-01</td>\n",
       "    </tr>\n",
       "    <tr>\n",
       "      <th>2856848</th>\n",
       "      <td>339dfe8faf01cc7080240644db9ecaec</td>\n",
       "      <td>5598113</td>\n",
       "      <td>1.343794e+09</td>\n",
       "      <td>2012-08-01</td>\n",
       "    </tr>\n",
       "    <tr>\n",
       "      <th>2856849</th>\n",
       "      <td>339dfe8faf01cc7080240644db9ecaec</td>\n",
       "      <td>12881778</td>\n",
       "      <td>1.343794e+09</td>\n",
       "      <td>2012-08-01</td>\n",
       "    </tr>\n",
       "    <tr>\n",
       "      <th>2856850</th>\n",
       "      <td>339dfe8faf01cc7080240644db9ecaec</td>\n",
       "      <td>11857408</td>\n",
       "      <td>1.343794e+09</td>\n",
       "      <td>2012-08-01</td>\n",
       "    </tr>\n",
       "    <tr>\n",
       "      <th>2856851</th>\n",
       "      <td>339dfe8faf01cc7080240644db9ecaec</td>\n",
       "      <td>10818853</td>\n",
       "      <td>1.343794e+09</td>\n",
       "      <td>2012-08-01</td>\n",
       "    </tr>\n",
       "  </tbody>\n",
       "</table>\n",
       "<p>398129 rows × 4 columns</p>\n",
       "</div>"
      ],
      "text/plain": [
       "                                  user_id   book_id     timestamp        date\n",
       "205      8842281e1d1347389f2ab93d60773d4d     25019  1.420088e+09  2015-01-01\n",
       "216      8842281e1d1347389f2ab93d60773d4d   1969280  1.414814e+09  2014-11-01\n",
       "217      8842281e1d1347389f2ab93d60773d4d  17290220  1.414814e+09  2014-11-01\n",
       "219      8842281e1d1347389f2ab93d60773d4d      6882  1.412136e+09  2014-10-01\n",
       "220      8842281e1d1347389f2ab93d60773d4d   6954929  1.412136e+09  2014-10-01\n",
       "...                                   ...       ...           ...         ...\n",
       "2856847  339dfe8faf01cc7080240644db9ecaec   6070950  1.343794e+09  2012-08-01\n",
       "2856848  339dfe8faf01cc7080240644db9ecaec   5598113  1.343794e+09  2012-08-01\n",
       "2856849  339dfe8faf01cc7080240644db9ecaec  12881778  1.343794e+09  2012-08-01\n",
       "2856850  339dfe8faf01cc7080240644db9ecaec  11857408  1.343794e+09  2012-08-01\n",
       "2856851  339dfe8faf01cc7080240644db9ecaec  10818853  1.343794e+09  2012-08-01\n",
       "\n",
       "[398129 rows x 4 columns]"
      ]
     },
     "execution_count": 3,
     "metadata": {},
     "output_type": "execute_result"
    }
   ],
   "source": [
    "df_inter = pd.read_csv(read_path+base_filename+'_interactions_df.csv', index_col=0)\n",
    "df_inter"
   ]
  },
  {
   "cell_type": "code",
   "execution_count": 4,
   "metadata": {},
   "outputs": [],
   "source": [
    "# rename columns\n",
    "df_inter.columns = ['user_id', 'item_id', 'timestamp', 'date']"
   ]
  },
  {
   "cell_type": "code",
   "execution_count": 5,
   "metadata": {},
   "outputs": [
    {
     "data": {
      "text/plain": [
       "user_id       object\n",
       "item_id        int64\n",
       "timestamp    float64\n",
       "date          object\n",
       "dtype: object"
      ]
     },
     "execution_count": 5,
     "metadata": {},
     "output_type": "execute_result"
    }
   ],
   "source": [
    "df_inter.dtypes"
   ]
  },
  {
   "cell_type": "code",
   "execution_count": 6,
   "metadata": {},
   "outputs": [
    {
     "data": {
      "text/html": [
       "<div>\n",
       "<style scoped>\n",
       "    .dataframe tbody tr th:only-of-type {\n",
       "        vertical-align: middle;\n",
       "    }\n",
       "\n",
       "    .dataframe tbody tr th {\n",
       "        vertical-align: top;\n",
       "    }\n",
       "\n",
       "    .dataframe thead th {\n",
       "        text-align: right;\n",
       "    }\n",
       "</style>\n",
       "<table border=\"1\" class=\"dataframe\">\n",
       "  <thead>\n",
       "    <tr style=\"text-align: right;\">\n",
       "      <th></th>\n",
       "      <th>user_id</th>\n",
       "      <th>item_id</th>\n",
       "      <th>timestamp</th>\n",
       "      <th>date</th>\n",
       "    </tr>\n",
       "  </thead>\n",
       "  <tbody>\n",
       "    <tr>\n",
       "      <th>1628474</th>\n",
       "      <td>527affacb717f6171b3ab99f8e2e8cd9</td>\n",
       "      <td>33737</td>\n",
       "      <td>1.341115e+09</td>\n",
       "      <td>2012-07-01</td>\n",
       "    </tr>\n",
       "    <tr>\n",
       "      <th>1350291</th>\n",
       "      <td>9984a4a10a9800da048f957972784fa0</td>\n",
       "      <td>6930014</td>\n",
       "      <td>1.341115e+09</td>\n",
       "      <td>2012-07-01</td>\n",
       "    </tr>\n",
       "    <tr>\n",
       "      <th>1350299</th>\n",
       "      <td>9984a4a10a9800da048f957972784fa0</td>\n",
       "      <td>13528488</td>\n",
       "      <td>1.341115e+09</td>\n",
       "      <td>2012-07-01</td>\n",
       "    </tr>\n",
       "    <tr>\n",
       "      <th>1975047</th>\n",
       "      <td>f1bf9f422038df63c5eb398dd2192513</td>\n",
       "      <td>9410421</td>\n",
       "      <td>1.341115e+09</td>\n",
       "      <td>2012-07-01</td>\n",
       "    </tr>\n",
       "    <tr>\n",
       "      <th>1975046</th>\n",
       "      <td>f1bf9f422038df63c5eb398dd2192513</td>\n",
       "      <td>8525590</td>\n",
       "      <td>1.341115e+09</td>\n",
       "      <td>2012-07-01</td>\n",
       "    </tr>\n",
       "  </tbody>\n",
       "</table>\n",
       "</div>"
      ],
      "text/plain": [
       "                                  user_id   item_id     timestamp       date\n",
       "1628474  527affacb717f6171b3ab99f8e2e8cd9     33737  1.341115e+09 2012-07-01\n",
       "1350291  9984a4a10a9800da048f957972784fa0   6930014  1.341115e+09 2012-07-01\n",
       "1350299  9984a4a10a9800da048f957972784fa0  13528488  1.341115e+09 2012-07-01\n",
       "1975047  f1bf9f422038df63c5eb398dd2192513   9410421  1.341115e+09 2012-07-01\n",
       "1975046  f1bf9f422038df63c5eb398dd2192513   8525590  1.341115e+09 2012-07-01"
      ]
     },
     "execution_count": 6,
     "metadata": {},
     "output_type": "execute_result"
    }
   ],
   "source": [
    "df_inter['date'] = df_inter['date'].apply(pd.Timestamp)\n",
    "df_inter.sort_values(by='date', inplace=True)\n",
    "df_inter.head()"
   ]
  },
  {
   "cell_type": "code",
   "execution_count": 7,
   "metadata": {},
   "outputs": [
    {
     "data": {
      "text/plain": [
       "user_id              object\n",
       "item_id               int64\n",
       "timestamp           float64\n",
       "date         datetime64[ns]\n",
       "dtype: object"
      ]
     },
     "execution_count": 7,
     "metadata": {},
     "output_type": "execute_result"
    }
   ],
   "source": [
    "df_inter.dtypes"
   ]
  },
  {
   "cell_type": "code",
   "execution_count": 10,
   "metadata": {},
   "outputs": [
    {
     "data": {
      "text/plain": [
       "<PeriodArray>\n",
       "['2012-07', '2012-08', '2012-09', '2012-10', '2012-11', '2012-12', '2013-01',\n",
       " '2013-02', '2013-03', '2013-04', '2013-05', '2013-06', '2013-07', '2013-08',\n",
       " '2013-09', '2013-10', '2013-11', '2013-12', '2014-01', '2014-02', '2014-03',\n",
       " '2014-04', '2014-05', '2014-06', '2014-07', '2014-08', '2014-09', '2014-10',\n",
       " '2014-11', '2014-12', '2015-01']\n",
       "Length: 31, dtype: period[M]"
      ]
     },
     "execution_count": 10,
     "metadata": {},
     "output_type": "execute_result"
    }
   ],
   "source": [
    "df_inter[\"date\"].dt.to_period(\"M\").unique()  # Extract semesters"
   ]
  },
  {
   "cell_type": "code",
   "execution_count": 11,
   "metadata": {},
   "outputs": [
    {
     "data": {
      "text/plain": [
       "<PeriodArray>\n",
       "['2012Q3', '2012Q4', '2013Q1', '2013Q2', '2013Q3', '2013Q4', '2014Q1',\n",
       " '2014Q2', '2014Q3', '2014Q4', '2015Q1']\n",
       "Length: 11, dtype: period[Q-DEC]"
      ]
     },
     "execution_count": 11,
     "metadata": {},
     "output_type": "execute_result"
    }
   ],
   "source": [
    "df_inter[\"date\"].dt.to_period(\"Q\").unique()"
   ]
  },
  {
   "cell_type": "code",
   "execution_count": 18,
   "metadata": {},
   "outputs": [
    {
     "data": {
      "text/plain": [
       "<PeriodArray>\n",
       "['2012Q3', '2012Q4', '2013Q1', '2013Q2', '2013Q3', '2013Q4', '2014Q1',\n",
       " '2014Q2', '2014Q3', '2014Q4', '2015Q1']\n",
       "Length: 11, dtype: period[Q-DEC]"
      ]
     },
     "execution_count": 18,
     "metadata": {},
     "output_type": "execute_result"
    }
   ],
   "source": [
    "df_inter[\"date\"].dt.to_period(\"Q\").unique()"
   ]
  },
  {
   "cell_type": "code",
   "execution_count": 8,
   "metadata": {},
   "outputs": [],
   "source": [
    "df_inter[\"quarter\"] = df_inter[\"date\"].dt.to_period(\"Q\")  # Extract quarter-year\n",
    "# https://pandas.pydata.org/docs/user_guide/timeseries.html#timeseries-period-aliases"
   ]
  },
  {
   "cell_type": "code",
   "execution_count": 9,
   "metadata": {},
   "outputs": [],
   "source": [
    "# # Sample dataset\n",
    "# # df = pd.read_csv(\"your_data.csv\")\n",
    "# # Assuming df has columns: 'user_id', 'item_id', 'timestamp'\n",
    "# # df_inter[\"timestamp\"] = pd.to_datetime(df_inter[\"timestamp\"])\n",
    "# df_inter[\"quarter\"] = df_inter[\"date\"].dt.to_period(\"Q\")  # Extract quarter-year\n",
    "\n",
    "# # Basic statistics\n",
    "# num_users = df_inter[\"user_id\"].nunique()\n",
    "# num_items = df_inter[\"item_id\"].nunique()\n",
    "# total_interactions = len(df_inter)\n",
    "# avg_interactions_per_user = total_interactions / num_users\n",
    "\n",
    "# # Interactions per user per quarter\n",
    "# interactions_per_user_quarter = df_inter.groupby([\"user_id\", \"quarter\"]).size().reset_index(name=\"interaction_count\")\n",
    "# avg_interactions_per_user_per_quarter = interactions_per_user_quarter[\"interaction_count\"].mean()\n",
    "\n",
    "# # Users only present in one quarter\n",
    "# users_per_quarter = df_inter.groupby(\"user_id\")[\"quarter\"].nunique()\n",
    "# users_in_one_quarter = (users_per_quarter == 1).sum()\n",
    "\n",
    "# # Print statistics\n",
    "# print(\"Number of users:\", num_users)\n",
    "# print(\"Number of items:\", num_items)\n",
    "# print(\"Average number of interactions per user:\", avg_interactions_per_user)\n",
    "# print(\"Average number of interactions per user per quarter:\", avg_interactions_per_user_per_quarter)\n",
    "# print(\"Number of users only present in one quarter:\", users_in_one_quarter)\n",
    "\n",
    "# # Additional recommendations for recommender system statistics\n",
    "# additional_stats = {\n",
    "#     \"Median interactions per user\": df_inter.groupby(\"user_id\").size().median(),\n",
    "#     \"Sparsity of interactions\": 1 - (total_interactions / (num_users * num_items)),\n",
    "#     \"User activity distribution\": df_inter.groupby(\"user_id\").size().describe(),\n",
    "#     \"Item popularity distribution\": df_inter.groupby(\"item_id\").size().describe(),\n",
    "#     \"New users per quarter\": df_inter.groupby(\"quarter\")[\"user_id\"].nunique().describe(),\n",
    "#     \"New items per quarter\": df_inter.groupby(\"quarter\")[\"item_id\"].nunique().describe(),\n",
    "#     \"Repeat engagement rate\": df_inter.groupby(\"user_id\")[\"item_id\"].nunique().mean(),\n",
    "#     # \"Session-based trends\": df_inter.groupby(df_inter[\"date\"].dt.date).size().describe(),\n",
    "#     \"Quarter-based trends\": df_inter.groupby(df_inter[\"quarter\"]).size().describe(),\n",
    "#     \"User retention rates\": df_inter.groupby(\"user_id\")[\"quarter\"].nunique().value_counts(normalize=True),\n",
    "# }\n",
    "\n",
    "# print(\"\\nAdditional Recommender System Statistics:\")\n",
    "# for stat, value in additional_stats.items():\n",
    "#     print(f\"{stat}:\\n{value}\\n\")"
   ]
  },
  {
   "cell_type": "code",
   "execution_count": 10,
   "metadata": {},
   "outputs": [],
   "source": [
    "# # User retention rates\n",
    "# user_retention = users_per_quarter.value_counts(normalize=True).sort_index()\n",
    "\n",
    "# # Plot user retention rates\n",
    "# plt.figure(figsize=(8, 5))\n",
    "# plt.bar(user_retention.index, user_retention.values, color='skyblue')\n",
    "# plt.xlabel(\"Number of Quarters Active\")\n",
    "# plt.ylabel(\"Proportion of Users\")\n",
    "# plt.title(\"User Retention Rates\")\n",
    "# plt.xticks(user_retention.index)\n",
    "# plt.show()"
   ]
  },
  {
   "cell_type": "code",
   "execution_count": 11,
   "metadata": {},
   "outputs": [],
   "source": [
    "# temp = pd.DataFrame({\n",
    "#     'user_id':['u1', 'u1', 'u2', 'u3', #users 1,2,3,4,5,6\n",
    "#                'u1', 'u4', 'u4', 'u5',\n",
    "#                'u1', 'u1', 'u2', 'u6',\n",
    "#                'u1', 'u1', 'u3', 'u3'],\n",
    "#     'item_id':['a', 'b', 'c', 'a',\n",
    "#                'c', 'a', 'b', 'd',\n",
    "#                'd', 'e', 'a', 'a',\n",
    "#                'b', 'd', 'b', 'c'],\n",
    "#     'quarter':['2012Q1','2012Q1','2012Q1','2012Q1',\n",
    "#                '2012Q2','2012Q2','2012Q2','2012Q2',\n",
    "#                '2012Q3','2012Q3','2012Q3','2012Q3',\n",
    "#                '2012Q4','2012Q4','2012Q4','2012Q4']\n",
    "# })\n",
    "\n",
    "\n",
    "# # Basic statistics\n",
    "# num_users = temp[\"user_id\"].nunique()\n",
    "# num_items = temp[\"item_id\"].nunique()\n",
    "# total_interactions = len(temp)\n",
    "# avg_interactions_per_user = total_interactions / num_users\n",
    "\n",
    "# # Interactions per user per quarter\n",
    "# interactions_per_user_quarter = temp.groupby([\"user_id\", \"quarter\"]).size().reset_index(name=\"interaction_count\")\n",
    "# avg_interactions_per_user_per_quarter = interactions_per_user_quarter[\"interaction_count\"].mean()\n",
    "\n",
    "# # Users only present in one quarter\n",
    "# users_per_quarter = temp.groupby(\"user_id\")[\"quarter\"].nunique()\n",
    "# users_in_one_quarter = (users_per_quarter == 1).sum()\n",
    "\n",
    "# # Print statistics\n",
    "# print(\"Number of users:\", num_users)\n",
    "# print(\"Number of items:\", num_items)\n",
    "# print(\"Average number of interactions per user:\", avg_interactions_per_user)\n",
    "# print(\"Average number of interactions per user per quarter:\", avg_interactions_per_user_per_quarter)\n",
    "# print(\"Number of users only present in one quarter:\", users_in_one_quarter)\n",
    "\n",
    "# # Additional recommendations for recommender system statistics\n",
    "# additional_stats = {\n",
    "#     \"Median interactions per user\": temp.groupby(\"user_id\").size().median(),\n",
    "#     \"Sparsity of interactions\": 1 - (total_interactions / (num_users * num_items)),\n",
    "#     \"User activity distribution\": temp.groupby(\"user_id\").size().describe(),\n",
    "#     \"Item popularity distribution\": temp.groupby(\"item_id\").size().describe(),\n",
    "#     \"New users per quarter\": temp.groupby(\"quarter\")[\"user_id\"].nunique().describe(),\n",
    "#     \"New items per quarter\": temp.groupby(\"quarter\")[\"item_id\"].nunique().describe(),\n",
    "#     \"Repeat engagement rate\": temp.groupby(\"user_id\")[\"item_id\"].nunique().mean(),\n",
    "#     # \"Session-based trends\": df_inter.groupby(df_inter[\"date\"].dt.date).size().describe(),\n",
    "#     \"Quarter-based trends\": temp.groupby(temp[\"quarter\"]).size().describe(),\n",
    "#     # \"User retention rates\": temp.groupby(\"user_id\")[\"quarter\"].nunique().value_counts(normalize=True),\n",
    "# }\n",
    "\n",
    "# print(\"\\nAdditional Recommender System Statistics:\")\n",
    "# for stat, value in additional_stats.items():\n",
    "#     print(f\"{stat}:\\n{value}\\n\")"
   ]
  },
  {
   "cell_type": "markdown",
   "metadata": {},
   "source": [
    "recall@20=1\n",
    "recall@1=0.6833\n",
    "\n",
    "it means all users (or most) have all items in the list and have too little interactions, average 1.46\n",
    "so it means there's only 1 more relevant interaction, skyrocketing the recall metric when there are so many opportunities (20) to include it on the rec list\n",
    "\n",
    "\n",
    "approaches to solve problem:\n",
    "\n",
    "1) filter out users with less than 8 interactions (it changes the data distribution)\n",
    "\n",
    "if k=20, and relevant items are 8, recall@20 can be 1/8 or 1\n",
    "\n",
    "\n"
   ]
  },
  {
   "cell_type": "code",
   "execution_count": null,
   "metadata": {},
   "outputs": [
    {
     "data": {
      "text/html": [
       "<div>\n",
       "<style scoped>\n",
       "    .dataframe tbody tr th:only-of-type {\n",
       "        vertical-align: middle;\n",
       "    }\n",
       "\n",
       "    .dataframe tbody tr th {\n",
       "        vertical-align: top;\n",
       "    }\n",
       "\n",
       "    .dataframe thead th {\n",
       "        text-align: right;\n",
       "    }\n",
       "</style>\n",
       "<table border=\"1\" class=\"dataframe\">\n",
       "  <thead>\n",
       "    <tr style=\"text-align: right;\">\n",
       "      <th></th>\n",
       "      <th>user_id</th>\n",
       "      <th>item_id</th>\n",
       "      <th>timestamp</th>\n",
       "      <th>date</th>\n",
       "      <th>quarter</th>\n",
       "    </tr>\n",
       "  </thead>\n",
       "  <tbody>\n",
       "    <tr>\n",
       "      <th>1628474</th>\n",
       "      <td>527affacb717f6171b3ab99f8e2e8cd9</td>\n",
       "      <td>33737</td>\n",
       "      <td>1.341115e+09</td>\n",
       "      <td>2012-07-01</td>\n",
       "      <td>2012Q3</td>\n",
       "    </tr>\n",
       "    <tr>\n",
       "      <th>1350291</th>\n",
       "      <td>9984a4a10a9800da048f957972784fa0</td>\n",
       "      <td>6930014</td>\n",
       "      <td>1.341115e+09</td>\n",
       "      <td>2012-07-01</td>\n",
       "      <td>2012Q3</td>\n",
       "    </tr>\n",
       "    <tr>\n",
       "      <th>1350299</th>\n",
       "      <td>9984a4a10a9800da048f957972784fa0</td>\n",
       "      <td>13528488</td>\n",
       "      <td>1.341115e+09</td>\n",
       "      <td>2012-07-01</td>\n",
       "      <td>2012Q3</td>\n",
       "    </tr>\n",
       "    <tr>\n",
       "      <th>1975047</th>\n",
       "      <td>f1bf9f422038df63c5eb398dd2192513</td>\n",
       "      <td>9410421</td>\n",
       "      <td>1.341115e+09</td>\n",
       "      <td>2012-07-01</td>\n",
       "      <td>2012Q3</td>\n",
       "    </tr>\n",
       "    <tr>\n",
       "      <th>1975046</th>\n",
       "      <td>f1bf9f422038df63c5eb398dd2192513</td>\n",
       "      <td>8525590</td>\n",
       "      <td>1.341115e+09</td>\n",
       "      <td>2012-07-01</td>\n",
       "      <td>2012Q3</td>\n",
       "    </tr>\n",
       "    <tr>\n",
       "      <th>...</th>\n",
       "      <td>...</td>\n",
       "      <td>...</td>\n",
       "      <td>...</td>\n",
       "      <td>...</td>\n",
       "      <td>...</td>\n",
       "    </tr>\n",
       "    <tr>\n",
       "      <th>1423285</th>\n",
       "      <td>5c179d5457bf229c8799f0e2a2a7bc35</td>\n",
       "      <td>1217100</td>\n",
       "      <td>1.420088e+09</td>\n",
       "      <td>2015-01-01</td>\n",
       "      <td>2015Q1</td>\n",
       "    </tr>\n",
       "    <tr>\n",
       "      <th>1424258</th>\n",
       "      <td>5ef6dab826848245fef307931436e4be</td>\n",
       "      <td>18126198</td>\n",
       "      <td>1.420088e+09</td>\n",
       "      <td>2015-01-01</td>\n",
       "      <td>2015Q1</td>\n",
       "    </tr>\n",
       "    <tr>\n",
       "      <th>1424259</th>\n",
       "      <td>5ef6dab826848245fef307931436e4be</td>\n",
       "      <td>13335037</td>\n",
       "      <td>1.420088e+09</td>\n",
       "      <td>2015-01-01</td>\n",
       "      <td>2015Q1</td>\n",
       "    </tr>\n",
       "    <tr>\n",
       "      <th>1422562</th>\n",
       "      <td>4fcbb2ee46b6fd159450471a24893da5</td>\n",
       "      <td>20312459</td>\n",
       "      <td>1.420088e+09</td>\n",
       "      <td>2015-01-01</td>\n",
       "      <td>2015Q1</td>\n",
       "    </tr>\n",
       "    <tr>\n",
       "      <th>205</th>\n",
       "      <td>8842281e1d1347389f2ab93d60773d4d</td>\n",
       "      <td>25019</td>\n",
       "      <td>1.420088e+09</td>\n",
       "      <td>2015-01-01</td>\n",
       "      <td>2015Q1</td>\n",
       "    </tr>\n",
       "  </tbody>\n",
       "</table>\n",
       "<p>398129 rows × 5 columns</p>\n",
       "</div>"
      ],
      "text/plain": [
       "                                  user_id   item_id     timestamp       date  \\\n",
       "1628474  527affacb717f6171b3ab99f8e2e8cd9     33737  1.341115e+09 2012-07-01   \n",
       "1350291  9984a4a10a9800da048f957972784fa0   6930014  1.341115e+09 2012-07-01   \n",
       "1350299  9984a4a10a9800da048f957972784fa0  13528488  1.341115e+09 2012-07-01   \n",
       "1975047  f1bf9f422038df63c5eb398dd2192513   9410421  1.341115e+09 2012-07-01   \n",
       "1975046  f1bf9f422038df63c5eb398dd2192513   8525590  1.341115e+09 2012-07-01   \n",
       "...                                   ...       ...           ...        ...   \n",
       "1423285  5c179d5457bf229c8799f0e2a2a7bc35   1217100  1.420088e+09 2015-01-01   \n",
       "1424258  5ef6dab826848245fef307931436e4be  18126198  1.420088e+09 2015-01-01   \n",
       "1424259  5ef6dab826848245fef307931436e4be  13335037  1.420088e+09 2015-01-01   \n",
       "1422562  4fcbb2ee46b6fd159450471a24893da5  20312459  1.420088e+09 2015-01-01   \n",
       "205      8842281e1d1347389f2ab93d60773d4d     25019  1.420088e+09 2015-01-01   \n",
       "\n",
       "        quarter  \n",
       "1628474  2012Q3  \n",
       "1350291  2012Q3  \n",
       "1350299  2012Q3  \n",
       "1975047  2012Q3  \n",
       "1975046  2012Q3  \n",
       "...         ...  \n",
       "1423285  2015Q1  \n",
       "1424258  2015Q1  \n",
       "1424259  2015Q1  \n",
       "1422562  2015Q1  \n",
       "205      2015Q1  \n",
       "\n",
       "[398129 rows x 5 columns]"
      ]
     },
     "execution_count": 12,
     "metadata": {},
     "output_type": "execute_result"
    }
   ],
   "source": [
    "df_inter"
   ]
  },
  {
   "cell_type": "code",
   "execution_count": null,
   "metadata": {},
   "outputs": [
    {
     "data": {
      "text/plain": [
       "quarter  user_id                         \n",
       "2012Q3   001aa4da5b2c1c53765b168224c7f106      2\n",
       "         002e4cdbb30a0fd5c00ef486c6e3bd6b     33\n",
       "         00331de137bbbda874c4c4463a46bb32      8\n",
       "         004f6d189c4546a39db2162986c0d9e1    137\n",
       "         00533a61db8ca4525e160f853c22ce5f      4\n",
       "                                            ... \n",
       "2015Q1   ff4ed175e424528f64ea534d6fedc5b4      9\n",
       "         ff5c5de14d2edd9055f86c43de19860b      3\n",
       "         ff6df5640dc4cb5ccaf73dac0462612d      4\n",
       "         ffd0aba8d59263c2d541c22f7ecad571      1\n",
       "         ffeca3c2b7d21f3b57b0b7c3cfe86c5d      4\n",
       "Length: 32582, dtype: int64"
      ]
     },
     "execution_count": 13,
     "metadata": {},
     "output_type": "execute_result"
    }
   ],
   "source": [
    "df_inter[['user_id', 'quarter']].groupby(['quarter', 'user_id']).size()#.mean()"
   ]
  },
  {
   "cell_type": "code",
   "execution_count": 14,
   "metadata": {},
   "outputs": [
    {
     "data": {
      "text/plain": [
       "<AxesSubplot:xlabel='quarter,user_id'>"
      ]
     },
     "execution_count": 14,
     "metadata": {},
     "output_type": "execute_result"
    },
    {
     "data": {
      "image/png": "[encoded data removed]",
      "text/plain": [
       "<Figure size 640x480 with 1 Axes>"
      ]
     },
     "metadata": {},
     "output_type": "display_data"
    }
   ],
   "source": [
    "df_inter[['user_id', 'quarter']].groupby(['quarter', 'user_id']).size().plot()"
   ]
  },
  {
   "cell_type": "code",
   "execution_count": 15,
   "metadata": {},
   "outputs": [],
   "source": [
    "# df_inter[['user_id', 'quarter']].groupby(['quarter']).describe() # this one would in fact not yield what i want\n",
    "# df_inter[['user_id', 'quarter']].groupby(['quarter']).size().median()"
   ]
  },
  {
   "cell_type": "code",
   "execution_count": 16,
   "metadata": {},
   "outputs": [
    {
     "data": {
      "text/plain": [
       "quarter  user_id                         \n",
       "2012Q3   001aa4da5b2c1c53765b168224c7f106      2\n",
       "         002e4cdbb30a0fd5c00ef486c6e3bd6b     33\n",
       "         00331de137bbbda874c4c4463a46bb32      8\n",
       "         004f6d189c4546a39db2162986c0d9e1    137\n",
       "         00533a61db8ca4525e160f853c22ce5f      4\n",
       "                                            ... \n",
       "2015Q1   ff4ed175e424528f64ea534d6fedc5b4      9\n",
       "         ff5c5de14d2edd9055f86c43de19860b      3\n",
       "         ff6df5640dc4cb5ccaf73dac0462612d      4\n",
       "         ffd0aba8d59263c2d541c22f7ecad571      1\n",
       "         ffeca3c2b7d21f3b57b0b7c3cfe86c5d      4\n",
       "Length: 32582, dtype: int64"
      ]
     },
     "execution_count": 16,
     "metadata": {},
     "output_type": "execute_result"
    }
   ],
   "source": [
    "quarter_inter = df_inter[['user_id', 'quarter']].groupby(['quarter', 'user_id']).size()#.groupby('quarter').describe()\n",
    "quarter_inter"
   ]
  },
  {
   "cell_type": "code",
   "execution_count": 17,
   "metadata": {},
   "outputs": [
    {
     "data": {
      "text/plain": [
       "quarter\n",
       "2012Q3    8.0\n",
       "2012Q4    6.0\n",
       "2013Q1    6.0\n",
       "2013Q2    5.0\n",
       "2013Q3    5.0\n",
       "2013Q4    4.0\n",
       "2014Q1    5.0\n",
       "2014Q2    5.0\n",
       "2014Q3    5.0\n",
       "2014Q4    4.0\n",
       "2015Q1    2.0\n",
       "Freq: Q-DEC, dtype: float64"
      ]
     },
     "execution_count": 17,
     "metadata": {},
     "output_type": "execute_result"
    }
   ],
   "source": [
    "quarter_inter.groupby('quarter').median()"
   ]
  },
  {
   "cell_type": "code",
   "execution_count": 18,
   "metadata": {},
   "outputs": [
    {
     "data": {
      "text/plain": [
       "quarter\n",
       "2012Q3    21.722350\n",
       "2012Q4    14.376830\n",
       "2013Q1    14.229408\n",
       "2013Q2    12.349332\n",
       "2013Q3    11.414863\n",
       "2013Q4     9.822724\n",
       "2014Q1    10.965194\n",
       "2014Q2    10.246382\n",
       "2014Q3    10.095570\n",
       "2014Q4     9.191187\n",
       "2015Q1     5.597332\n",
       "Freq: Q-DEC, dtype: float64"
      ]
     },
     "execution_count": 18,
     "metadata": {},
     "output_type": "execute_result"
    }
   ],
   "source": [
    "quarter_inter.groupby('quarter').mean()"
   ]
  },
  {
   "cell_type": "code",
   "execution_count": 19,
   "metadata": {},
   "outputs": [
    {
     "data": {
      "text/html": [
       "<div>\n",
       "<style scoped>\n",
       "    .dataframe tbody tr th:only-of-type {\n",
       "        vertical-align: middle;\n",
       "    }\n",
       "\n",
       "    .dataframe tbody tr th {\n",
       "        vertical-align: top;\n",
       "    }\n",
       "\n",
       "    .dataframe thead th {\n",
       "        text-align: right;\n",
       "    }\n",
       "</style>\n",
       "<table border=\"1\" class=\"dataframe\">\n",
       "  <thead>\n",
       "    <tr style=\"text-align: right;\">\n",
       "      <th></th>\n",
       "      <th>count</th>\n",
       "      <th>mean</th>\n",
       "      <th>std</th>\n",
       "      <th>min</th>\n",
       "      <th>25%</th>\n",
       "      <th>50%</th>\n",
       "      <th>75%</th>\n",
       "      <th>max</th>\n",
       "    </tr>\n",
       "    <tr>\n",
       "      <th>quarter</th>\n",
       "      <th></th>\n",
       "      <th></th>\n",
       "      <th></th>\n",
       "      <th></th>\n",
       "      <th></th>\n",
       "      <th></th>\n",
       "      <th></th>\n",
       "      <th></th>\n",
       "    </tr>\n",
       "  </thead>\n",
       "  <tbody>\n",
       "    <tr>\n",
       "      <th>2012Q3</th>\n",
       "      <td>3472.0</td>\n",
       "      <td>21.722350</td>\n",
       "      <td>44.791133</td>\n",
       "      <td>1.0</td>\n",
       "      <td>3.0</td>\n",
       "      <td>8.0</td>\n",
       "      <td>22.25</td>\n",
       "      <td>857.0</td>\n",
       "    </tr>\n",
       "    <tr>\n",
       "      <th>2012Q4</th>\n",
       "      <td>3142.0</td>\n",
       "      <td>14.376830</td>\n",
       "      <td>29.285973</td>\n",
       "      <td>1.0</td>\n",
       "      <td>2.0</td>\n",
       "      <td>6.0</td>\n",
       "      <td>15.00</td>\n",
       "      <td>604.0</td>\n",
       "    </tr>\n",
       "    <tr>\n",
       "      <th>2013Q1</th>\n",
       "      <td>3278.0</td>\n",
       "      <td>14.229408</td>\n",
       "      <td>25.162150</td>\n",
       "      <td>1.0</td>\n",
       "      <td>2.0</td>\n",
       "      <td>6.0</td>\n",
       "      <td>15.00</td>\n",
       "      <td>426.0</td>\n",
       "    </tr>\n",
       "    <tr>\n",
       "      <th>2013Q2</th>\n",
       "      <td>3146.0</td>\n",
       "      <td>12.349332</td>\n",
       "      <td>25.097869</td>\n",
       "      <td>1.0</td>\n",
       "      <td>2.0</td>\n",
       "      <td>5.0</td>\n",
       "      <td>12.00</td>\n",
       "      <td>565.0</td>\n",
       "    </tr>\n",
       "    <tr>\n",
       "      <th>2013Q3</th>\n",
       "      <td>3095.0</td>\n",
       "      <td>11.414863</td>\n",
       "      <td>21.977741</td>\n",
       "      <td>1.0</td>\n",
       "      <td>2.0</td>\n",
       "      <td>5.0</td>\n",
       "      <td>11.00</td>\n",
       "      <td>415.0</td>\n",
       "    </tr>\n",
       "    <tr>\n",
       "      <th>2013Q4</th>\n",
       "      <td>2922.0</td>\n",
       "      <td>9.822724</td>\n",
       "      <td>16.364453</td>\n",
       "      <td>1.0</td>\n",
       "      <td>2.0</td>\n",
       "      <td>4.0</td>\n",
       "      <td>10.00</td>\n",
       "      <td>217.0</td>\n",
       "    </tr>\n",
       "    <tr>\n",
       "      <th>2014Q1</th>\n",
       "      <td>2988.0</td>\n",
       "      <td>10.965194</td>\n",
       "      <td>20.303179</td>\n",
       "      <td>1.0</td>\n",
       "      <td>2.0</td>\n",
       "      <td>5.0</td>\n",
       "      <td>11.00</td>\n",
       "      <td>298.0</td>\n",
       "    </tr>\n",
       "    <tr>\n",
       "      <th>2014Q2</th>\n",
       "      <td>2902.0</td>\n",
       "      <td>10.246382</td>\n",
       "      <td>21.630988</td>\n",
       "      <td>1.0</td>\n",
       "      <td>2.0</td>\n",
       "      <td>5.0</td>\n",
       "      <td>11.00</td>\n",
       "      <td>711.0</td>\n",
       "    </tr>\n",
       "    <tr>\n",
       "      <th>2014Q3</th>\n",
       "      <td>2867.0</td>\n",
       "      <td>10.095570</td>\n",
       "      <td>20.825345</td>\n",
       "      <td>1.0</td>\n",
       "      <td>2.0</td>\n",
       "      <td>5.0</td>\n",
       "      <td>11.00</td>\n",
       "      <td>578.0</td>\n",
       "    </tr>\n",
       "    <tr>\n",
       "      <th>2014Q4</th>\n",
       "      <td>2746.0</td>\n",
       "      <td>9.191187</td>\n",
       "      <td>16.643597</td>\n",
       "      <td>1.0</td>\n",
       "      <td>2.0</td>\n",
       "      <td>4.0</td>\n",
       "      <td>9.00</td>\n",
       "      <td>323.0</td>\n",
       "    </tr>\n",
       "    <tr>\n",
       "      <th>2015Q1</th>\n",
       "      <td>2024.0</td>\n",
       "      <td>5.597332</td>\n",
       "      <td>13.823562</td>\n",
       "      <td>1.0</td>\n",
       "      <td>1.0</td>\n",
       "      <td>2.0</td>\n",
       "      <td>5.00</td>\n",
       "      <td>353.0</td>\n",
       "    </tr>\n",
       "  </tbody>\n",
       "</table>\n",
       "</div>"
      ],
      "text/plain": [
       "          count       mean        std  min  25%  50%    75%    max\n",
       "quarter                                                           \n",
       "2012Q3   3472.0  21.722350  44.791133  1.0  3.0  8.0  22.25  857.0\n",
       "2012Q4   3142.0  14.376830  29.285973  1.0  2.0  6.0  15.00  604.0\n",
       "2013Q1   3278.0  14.229408  25.162150  1.0  2.0  6.0  15.00  426.0\n",
       "2013Q2   3146.0  12.349332  25.097869  1.0  2.0  5.0  12.00  565.0\n",
       "2013Q3   3095.0  11.414863  21.977741  1.0  2.0  5.0  11.00  415.0\n",
       "2013Q4   2922.0   9.822724  16.364453  1.0  2.0  4.0  10.00  217.0\n",
       "2014Q1   2988.0  10.965194  20.303179  1.0  2.0  5.0  11.00  298.0\n",
       "2014Q2   2902.0  10.246382  21.630988  1.0  2.0  5.0  11.00  711.0\n",
       "2014Q3   2867.0  10.095570  20.825345  1.0  2.0  5.0  11.00  578.0\n",
       "2014Q4   2746.0   9.191187  16.643597  1.0  2.0  4.0   9.00  323.0\n",
       "2015Q1   2024.0   5.597332  13.823562  1.0  1.0  2.0   5.00  353.0"
      ]
     },
     "execution_count": 19,
     "metadata": {},
     "output_type": "execute_result"
    }
   ],
   "source": [
    "quarter_inter.groupby('quarter').describe()"
   ]
  },
  {
   "cell_type": "code",
   "execution_count": 20,
   "metadata": {},
   "outputs": [
    {
     "data": {
      "text/html": [
       "<div>\n",
       "<style scoped>\n",
       "    .dataframe tbody tr th:only-of-type {\n",
       "        vertical-align: middle;\n",
       "    }\n",
       "\n",
       "    .dataframe tbody tr th {\n",
       "        vertical-align: top;\n",
       "    }\n",
       "\n",
       "    .dataframe thead th {\n",
       "        text-align: right;\n",
       "    }\n",
       "</style>\n",
       "<table border=\"1\" class=\"dataframe\">\n",
       "  <thead>\n",
       "    <tr style=\"text-align: right;\">\n",
       "      <th></th>\n",
       "      <th>quarter</th>\n",
       "      <th>user_id</th>\n",
       "      <th>n_inter</th>\n",
       "    </tr>\n",
       "  </thead>\n",
       "  <tbody>\n",
       "    <tr>\n",
       "      <th>0</th>\n",
       "      <td>2012Q3</td>\n",
       "      <td>001aa4da5b2c1c53765b168224c7f106</td>\n",
       "      <td>2</td>\n",
       "    </tr>\n",
       "    <tr>\n",
       "      <th>1</th>\n",
       "      <td>2012Q3</td>\n",
       "      <td>002e4cdbb30a0fd5c00ef486c6e3bd6b</td>\n",
       "      <td>33</td>\n",
       "    </tr>\n",
       "    <tr>\n",
       "      <th>2</th>\n",
       "      <td>2012Q3</td>\n",
       "      <td>00331de137bbbda874c4c4463a46bb32</td>\n",
       "      <td>8</td>\n",
       "    </tr>\n",
       "    <tr>\n",
       "      <th>3</th>\n",
       "      <td>2012Q3</td>\n",
       "      <td>004f6d189c4546a39db2162986c0d9e1</td>\n",
       "      <td>137</td>\n",
       "    </tr>\n",
       "    <tr>\n",
       "      <th>4</th>\n",
       "      <td>2012Q3</td>\n",
       "      <td>00533a61db8ca4525e160f853c22ce5f</td>\n",
       "      <td>4</td>\n",
       "    </tr>\n",
       "    <tr>\n",
       "      <th>...</th>\n",
       "      <td>...</td>\n",
       "      <td>...</td>\n",
       "      <td>...</td>\n",
       "    </tr>\n",
       "    <tr>\n",
       "      <th>32577</th>\n",
       "      <td>2015Q1</td>\n",
       "      <td>ff4ed175e424528f64ea534d6fedc5b4</td>\n",
       "      <td>9</td>\n",
       "    </tr>\n",
       "    <tr>\n",
       "      <th>32578</th>\n",
       "      <td>2015Q1</td>\n",
       "      <td>ff5c5de14d2edd9055f86c43de19860b</td>\n",
       "      <td>3</td>\n",
       "    </tr>\n",
       "    <tr>\n",
       "      <th>32579</th>\n",
       "      <td>2015Q1</td>\n",
       "      <td>ff6df5640dc4cb5ccaf73dac0462612d</td>\n",
       "      <td>4</td>\n",
       "    </tr>\n",
       "    <tr>\n",
       "      <th>32580</th>\n",
       "      <td>2015Q1</td>\n",
       "      <td>ffd0aba8d59263c2d541c22f7ecad571</td>\n",
       "      <td>1</td>\n",
       "    </tr>\n",
       "    <tr>\n",
       "      <th>32581</th>\n",
       "      <td>2015Q1</td>\n",
       "      <td>ffeca3c2b7d21f3b57b0b7c3cfe86c5d</td>\n",
       "      <td>4</td>\n",
       "    </tr>\n",
       "  </tbody>\n",
       "</table>\n",
       "<p>32582 rows × 3 columns</p>\n",
       "</div>"
      ],
      "text/plain": [
       "      quarter                           user_id  n_inter\n",
       "0      2012Q3  001aa4da5b2c1c53765b168224c7f106        2\n",
       "1      2012Q3  002e4cdbb30a0fd5c00ef486c6e3bd6b       33\n",
       "2      2012Q3  00331de137bbbda874c4c4463a46bb32        8\n",
       "3      2012Q3  004f6d189c4546a39db2162986c0d9e1      137\n",
       "4      2012Q3  00533a61db8ca4525e160f853c22ce5f        4\n",
       "...       ...                               ...      ...\n",
       "32577  2015Q1  ff4ed175e424528f64ea534d6fedc5b4        9\n",
       "32578  2015Q1  ff5c5de14d2edd9055f86c43de19860b        3\n",
       "32579  2015Q1  ff6df5640dc4cb5ccaf73dac0462612d        4\n",
       "32580  2015Q1  ffd0aba8d59263c2d541c22f7ecad571        1\n",
       "32581  2015Q1  ffeca3c2b7d21f3b57b0b7c3cfe86c5d        4\n",
       "\n",
       "[32582 rows x 3 columns]"
      ]
     },
     "execution_count": 20,
     "metadata": {},
     "output_type": "execute_result"
    }
   ],
   "source": [
    "quarter_inter = quarter_inter.reset_index(name='n_inter')\n",
    "quarter_inter"
   ]
  },
  {
   "cell_type": "code",
   "execution_count": 21,
   "metadata": {},
   "outputs": [
    {
     "data": {
      "text/plain": [
       "quarter    period[Q-DEC]\n",
       "user_id           object\n",
       "n_inter            int64\n",
       "dtype: object"
      ]
     },
     "execution_count": 21,
     "metadata": {},
     "output_type": "execute_result"
    }
   ],
   "source": [
    "quarter_inter.dtypes"
   ]
  },
  {
   "cell_type": "code",
   "execution_count": 22,
   "metadata": {},
   "outputs": [
    {
     "data": {
      "text/plain": [
       "quarter\n",
       "2012Q3    3472\n",
       "2012Q4    3142\n",
       "2013Q1    3278\n",
       "2013Q2    3146\n",
       "2013Q3    3095\n",
       "2013Q4    2922\n",
       "2014Q1    2988\n",
       "2014Q2    2902\n",
       "2014Q3    2867\n",
       "2014Q4    2746\n",
       "2015Q1    2024\n",
       "Freq: Q-DEC, Name: count, dtype: int64"
      ]
     },
     "execution_count": 22,
     "metadata": {},
     "output_type": "execute_result"
    }
   ],
   "source": [
    "quarter_inter.quarter.value_counts().sort_index()"
   ]
  },
  {
   "cell_type": "code",
   "execution_count": 23,
   "metadata": {},
   "outputs": [
    {
     "data": {
      "text/plain": [
       "quarter\n",
       "2012Q3     425\n",
       "2012Q4     539\n",
       "2013Q1     499\n",
       "2013Q2     516\n",
       "2013Q3     560\n",
       "2013Q4     569\n",
       "2014Q1     559\n",
       "2014Q2     543\n",
       "2014Q3     560\n",
       "2014Q4     555\n",
       "2015Q1     637\n",
       "Name: count, dtype: int64"
      ]
     },
     "execution_count": 23,
     "metadata": {},
     "output_type": "execute_result"
    }
   ],
   "source": [
    "# potentially to remove\n",
    "quarter_inter.loc[quarter_inter['n_inter']==1, ['quarter']].value_counts().sort_index()"
   ]
  },
  {
   "cell_type": "code",
   "execution_count": 24,
   "metadata": {},
   "outputs": [
    {
     "data": {
      "text/plain": [
       "5962"
      ]
     },
     "execution_count": 24,
     "metadata": {},
     "output_type": "execute_result"
    }
   ],
   "source": [
    "quarter_inter.loc[quarter_inter['n_inter']==1, ['quarter']].value_counts().sum()"
   ]
  },
  {
   "cell_type": "code",
   "execution_count": 25,
   "metadata": {},
   "outputs": [
    {
     "data": {
      "text/plain": [
       "quarter\n",
       "2012Q3     3047\n",
       "2012Q4     2603\n",
       "2013Q1     2779\n",
       "2013Q2     2630\n",
       "2013Q3     2535\n",
       "2013Q4     2353\n",
       "2014Q1     2429\n",
       "2014Q2     2359\n",
       "2014Q3     2307\n",
       "2014Q4     2191\n",
       "2015Q1     1387\n",
       "Name: count, dtype: int64"
      ]
     },
     "execution_count": 25,
     "metadata": {},
     "output_type": "execute_result"
    }
   ],
   "source": [
    "quarter_inter.loc[quarter_inter['n_inter']>1, ['quarter']].value_counts().sort_index()"
   ]
  },
  {
   "cell_type": "code",
   "execution_count": 26,
   "metadata": {},
   "outputs": [
    {
     "data": {
      "text/plain": [
       "5204"
      ]
     },
     "execution_count": 26,
     "metadata": {},
     "output_type": "execute_result"
    }
   ],
   "source": [
    "quarter_inter.loc[:, 'user_id'].nunique()"
   ]
  },
  {
   "cell_type": "code",
   "execution_count": 27,
   "metadata": {},
   "outputs": [
    {
     "data": {
      "text/plain": [
       "3245"
      ]
     },
     "execution_count": 27,
     "metadata": {},
     "output_type": "execute_result"
    }
   ],
   "source": [
    "quarter_inter.loc[quarter_inter['n_inter']==1, 'user_id'].nunique()"
   ]
  },
  {
   "cell_type": "code",
   "execution_count": 28,
   "metadata": {},
   "outputs": [
    {
     "data": {
      "text/plain": [
       "5034"
      ]
     },
     "execution_count": 28,
     "metadata": {},
     "output_type": "execute_result"
    }
   ],
   "source": [
    "quarter_inter.loc[quarter_inter['n_inter']>1, 'user_id'].nunique()"
   ]
  },
  {
   "cell_type": "code",
   "execution_count": null,
   "metadata": {},
   "outputs": [
    {
     "data": {
      "text/plain": [
       "5034"
      ]
     },
     "execution_count": 29,
     "metadata": {},
     "output_type": "execute_result"
    }
   ],
   "source": [
    "list_users_more_1_interaction = list(quarter_inter.loc[quarter_inter['n_inter']>1, 'user_id'].unique())\n",
    "len(list_users_more_1_interaction)"
   ]
  },
  {
   "cell_type": "code",
   "execution_count": 30,
   "metadata": {},
   "outputs": [
    {
     "data": {
      "text/plain": [
       "3245"
      ]
     },
     "execution_count": 30,
     "metadata": {},
     "output_type": "execute_result"
    }
   ],
   "source": [
    "list_users_1_interaction = list(quarter_inter.loc[quarter_inter['n_inter']==1, 'user_id'].unique())\n",
    "len(list_users_1_interaction)"
   ]
  },
  {
   "cell_type": "code",
   "execution_count": 31,
   "metadata": {},
   "outputs": [
    {
     "data": {
      "text/plain": [
       "5204"
      ]
     },
     "execution_count": 31,
     "metadata": {},
     "output_type": "execute_result"
    }
   ],
   "source": [
    "quarter_inter.user_id.nunique()"
   ]
  },
  {
   "cell_type": "code",
   "execution_count": 32,
   "metadata": {},
   "outputs": [
    {
     "data": {
      "text/plain": [
       "5204"
      ]
     },
     "execution_count": 32,
     "metadata": {},
     "output_type": "execute_result"
    }
   ],
   "source": [
    "df_inter.user_id.nunique()"
   ]
  },
  {
   "cell_type": "code",
   "execution_count": 33,
   "metadata": {},
   "outputs": [
    {
     "data": {
      "text/html": [
       "<div>\n",
       "<style scoped>\n",
       "    .dataframe tbody tr th:only-of-type {\n",
       "        vertical-align: middle;\n",
       "    }\n",
       "\n",
       "    .dataframe tbody tr th {\n",
       "        vertical-align: top;\n",
       "    }\n",
       "\n",
       "    .dataframe thead th {\n",
       "        text-align: right;\n",
       "    }\n",
       "</style>\n",
       "<table border=\"1\" class=\"dataframe\">\n",
       "  <thead>\n",
       "    <tr style=\"text-align: right;\">\n",
       "      <th></th>\n",
       "      <th>user_id</th>\n",
       "      <th>item_id</th>\n",
       "      <th>timestamp</th>\n",
       "      <th>date</th>\n",
       "      <th>quarter</th>\n",
       "    </tr>\n",
       "  </thead>\n",
       "  <tbody>\n",
       "    <tr>\n",
       "      <th>0</th>\n",
       "      <td>527affacb717f6171b3ab99f8e2e8cd9</td>\n",
       "      <td>33737</td>\n",
       "      <td>1.341115e+09</td>\n",
       "      <td>2012-07-01</td>\n",
       "      <td>2012Q3</td>\n",
       "    </tr>\n",
       "    <tr>\n",
       "      <th>1</th>\n",
       "      <td>9984a4a10a9800da048f957972784fa0</td>\n",
       "      <td>6930014</td>\n",
       "      <td>1.341115e+09</td>\n",
       "      <td>2012-07-01</td>\n",
       "      <td>2012Q3</td>\n",
       "    </tr>\n",
       "    <tr>\n",
       "      <th>2</th>\n",
       "      <td>9984a4a10a9800da048f957972784fa0</td>\n",
       "      <td>13528488</td>\n",
       "      <td>1.341115e+09</td>\n",
       "      <td>2012-07-01</td>\n",
       "      <td>2012Q3</td>\n",
       "    </tr>\n",
       "    <tr>\n",
       "      <th>3</th>\n",
       "      <td>f1bf9f422038df63c5eb398dd2192513</td>\n",
       "      <td>9410421</td>\n",
       "      <td>1.341115e+09</td>\n",
       "      <td>2012-07-01</td>\n",
       "      <td>2012Q3</td>\n",
       "    </tr>\n",
       "    <tr>\n",
       "      <th>4</th>\n",
       "      <td>f1bf9f422038df63c5eb398dd2192513</td>\n",
       "      <td>8525590</td>\n",
       "      <td>1.341115e+09</td>\n",
       "      <td>2012-07-01</td>\n",
       "      <td>2012Q3</td>\n",
       "    </tr>\n",
       "    <tr>\n",
       "      <th>...</th>\n",
       "      <td>...</td>\n",
       "      <td>...</td>\n",
       "      <td>...</td>\n",
       "      <td>...</td>\n",
       "      <td>...</td>\n",
       "    </tr>\n",
       "    <tr>\n",
       "      <th>397836</th>\n",
       "      <td>5c179d5457bf229c8799f0e2a2a7bc35</td>\n",
       "      <td>1217100</td>\n",
       "      <td>1.420088e+09</td>\n",
       "      <td>2015-01-01</td>\n",
       "      <td>2015Q1</td>\n",
       "    </tr>\n",
       "    <tr>\n",
       "      <th>397837</th>\n",
       "      <td>5ef6dab826848245fef307931436e4be</td>\n",
       "      <td>18126198</td>\n",
       "      <td>1.420088e+09</td>\n",
       "      <td>2015-01-01</td>\n",
       "      <td>2015Q1</td>\n",
       "    </tr>\n",
       "    <tr>\n",
       "      <th>397838</th>\n",
       "      <td>5ef6dab826848245fef307931436e4be</td>\n",
       "      <td>13335037</td>\n",
       "      <td>1.420088e+09</td>\n",
       "      <td>2015-01-01</td>\n",
       "      <td>2015Q1</td>\n",
       "    </tr>\n",
       "    <tr>\n",
       "      <th>397839</th>\n",
       "      <td>4fcbb2ee46b6fd159450471a24893da5</td>\n",
       "      <td>20312459</td>\n",
       "      <td>1.420088e+09</td>\n",
       "      <td>2015-01-01</td>\n",
       "      <td>2015Q1</td>\n",
       "    </tr>\n",
       "    <tr>\n",
       "      <th>397840</th>\n",
       "      <td>8842281e1d1347389f2ab93d60773d4d</td>\n",
       "      <td>25019</td>\n",
       "      <td>1.420088e+09</td>\n",
       "      <td>2015-01-01</td>\n",
       "      <td>2015Q1</td>\n",
       "    </tr>\n",
       "  </tbody>\n",
       "</table>\n",
       "<p>397841 rows × 5 columns</p>\n",
       "</div>"
      ],
      "text/plain": [
       "                                 user_id   item_id     timestamp       date  \\\n",
       "0       527affacb717f6171b3ab99f8e2e8cd9     33737  1.341115e+09 2012-07-01   \n",
       "1       9984a4a10a9800da048f957972784fa0   6930014  1.341115e+09 2012-07-01   \n",
       "2       9984a4a10a9800da048f957972784fa0  13528488  1.341115e+09 2012-07-01   \n",
       "3       f1bf9f422038df63c5eb398dd2192513   9410421  1.341115e+09 2012-07-01   \n",
       "4       f1bf9f422038df63c5eb398dd2192513   8525590  1.341115e+09 2012-07-01   \n",
       "...                                  ...       ...           ...        ...   \n",
       "397836  5c179d5457bf229c8799f0e2a2a7bc35   1217100  1.420088e+09 2015-01-01   \n",
       "397837  5ef6dab826848245fef307931436e4be  18126198  1.420088e+09 2015-01-01   \n",
       "397838  5ef6dab826848245fef307931436e4be  13335037  1.420088e+09 2015-01-01   \n",
       "397839  4fcbb2ee46b6fd159450471a24893da5  20312459  1.420088e+09 2015-01-01   \n",
       "397840  8842281e1d1347389f2ab93d60773d4d     25019  1.420088e+09 2015-01-01   \n",
       "\n",
       "       quarter  \n",
       "0       2012Q3  \n",
       "1       2012Q3  \n",
       "2       2012Q3  \n",
       "3       2012Q3  \n",
       "4       2012Q3  \n",
       "...        ...  \n",
       "397836  2015Q1  \n",
       "397837  2015Q1  \n",
       "397838  2015Q1  \n",
       "397839  2015Q1  \n",
       "397840  2015Q1  \n",
       "\n",
       "[397841 rows x 5 columns]"
      ]
     },
     "execution_count": 33,
     "metadata": {},
     "output_type": "execute_result"
    }
   ],
   "source": [
    "sampled_df = df_inter.loc[df_inter.user_id.isin(list_users_more_1_interaction)].reset_index(drop=True)\n",
    "sampled_df"
   ]
  },
  {
   "cell_type": "code",
   "execution_count": null,
   "metadata": {},
   "outputs": [
    {
     "data": {
      "text/plain": [
       "5034"
      ]
     },
     "execution_count": 34,
     "metadata": {},
     "output_type": "execute_result"
    }
   ],
   "source": [
    "sampled_df.user_id.nunique()"
   ]
  },
  {
   "cell_type": "code",
   "execution_count": 35,
   "metadata": {},
   "outputs": [
    {
     "data": {
      "text/html": [
       "<div>\n",
       "<style scoped>\n",
       "    .dataframe tbody tr th:only-of-type {\n",
       "        vertical-align: middle;\n",
       "    }\n",
       "\n",
       "    .dataframe tbody tr th {\n",
       "        vertical-align: top;\n",
       "    }\n",
       "\n",
       "    .dataframe thead th {\n",
       "        text-align: right;\n",
       "    }\n",
       "</style>\n",
       "<table border=\"1\" class=\"dataframe\">\n",
       "  <thead>\n",
       "    <tr style=\"text-align: right;\">\n",
       "      <th></th>\n",
       "      <th>user_id</th>\n",
       "      <th>item_id</th>\n",
       "      <th>timestamp</th>\n",
       "      <th>date</th>\n",
       "      <th>quarter</th>\n",
       "    </tr>\n",
       "  </thead>\n",
       "  <tbody>\n",
       "    <tr>\n",
       "      <th>0</th>\n",
       "      <td>527affacb717f6171b3ab99f8e2e8cd9</td>\n",
       "      <td>33737</td>\n",
       "      <td>1.341115e+09</td>\n",
       "      <td>2012-07-01</td>\n",
       "      <td>2012Q3</td>\n",
       "    </tr>\n",
       "    <tr>\n",
       "      <th>1</th>\n",
       "      <td>f1bf9f422038df63c5eb398dd2192513</td>\n",
       "      <td>9410421</td>\n",
       "      <td>1.341115e+09</td>\n",
       "      <td>2012-07-01</td>\n",
       "      <td>2012Q3</td>\n",
       "    </tr>\n",
       "    <tr>\n",
       "      <th>2</th>\n",
       "      <td>f1bf9f422038df63c5eb398dd2192513</td>\n",
       "      <td>8525590</td>\n",
       "      <td>1.341115e+09</td>\n",
       "      <td>2012-07-01</td>\n",
       "      <td>2012Q3</td>\n",
       "    </tr>\n",
       "    <tr>\n",
       "      <th>3</th>\n",
       "      <td>a8ccafefd08a1d25bfde00d8666a409e</td>\n",
       "      <td>1162543</td>\n",
       "      <td>1.341115e+09</td>\n",
       "      <td>2012-07-01</td>\n",
       "      <td>2012Q3</td>\n",
       "    </tr>\n",
       "    <tr>\n",
       "      <th>4</th>\n",
       "      <td>a8ccafefd08a1d25bfde00d8666a409e</td>\n",
       "      <td>24178</td>\n",
       "      <td>1.341115e+09</td>\n",
       "      <td>2012-07-01</td>\n",
       "      <td>2012Q3</td>\n",
       "    </tr>\n",
       "    <tr>\n",
       "      <th>...</th>\n",
       "      <td>...</td>\n",
       "      <td>...</td>\n",
       "      <td>...</td>\n",
       "      <td>...</td>\n",
       "      <td>...</td>\n",
       "    </tr>\n",
       "    <tr>\n",
       "      <th>221596</th>\n",
       "      <td>0c16693cbe75b246ef93e679014ef1aa</td>\n",
       "      <td>13635342</td>\n",
       "      <td>1.420088e+09</td>\n",
       "      <td>2015-01-01</td>\n",
       "      <td>2015Q1</td>\n",
       "    </tr>\n",
       "    <tr>\n",
       "      <th>221597</th>\n",
       "      <td>0c16693cbe75b246ef93e679014ef1aa</td>\n",
       "      <td>14889780</td>\n",
       "      <td>1.420088e+09</td>\n",
       "      <td>2015-01-01</td>\n",
       "      <td>2015Q1</td>\n",
       "    </tr>\n",
       "    <tr>\n",
       "      <th>221598</th>\n",
       "      <td>0c16693cbe75b246ef93e679014ef1aa</td>\n",
       "      <td>12922320</td>\n",
       "      <td>1.420088e+09</td>\n",
       "      <td>2015-01-01</td>\n",
       "      <td>2015Q1</td>\n",
       "    </tr>\n",
       "    <tr>\n",
       "      <th>221599</th>\n",
       "      <td>0c16693cbe75b246ef93e679014ef1aa</td>\n",
       "      <td>21094993</td>\n",
       "      <td>1.420088e+09</td>\n",
       "      <td>2015-01-01</td>\n",
       "      <td>2015Q1</td>\n",
       "    </tr>\n",
       "    <tr>\n",
       "      <th>221600</th>\n",
       "      <td>0c16693cbe75b246ef93e679014ef1aa</td>\n",
       "      <td>9489502</td>\n",
       "      <td>1.420088e+09</td>\n",
       "      <td>2015-01-01</td>\n",
       "      <td>2015Q1</td>\n",
       "    </tr>\n",
       "  </tbody>\n",
       "</table>\n",
       "<p>221601 rows × 5 columns</p>\n",
       "</div>"
      ],
      "text/plain": [
       "                                 user_id   item_id     timestamp       date  \\\n",
       "0       527affacb717f6171b3ab99f8e2e8cd9     33737  1.341115e+09 2012-07-01   \n",
       "1       f1bf9f422038df63c5eb398dd2192513   9410421  1.341115e+09 2012-07-01   \n",
       "2       f1bf9f422038df63c5eb398dd2192513   8525590  1.341115e+09 2012-07-01   \n",
       "3       a8ccafefd08a1d25bfde00d8666a409e   1162543  1.341115e+09 2012-07-01   \n",
       "4       a8ccafefd08a1d25bfde00d8666a409e     24178  1.341115e+09 2012-07-01   \n",
       "...                                  ...       ...           ...        ...   \n",
       "221596  0c16693cbe75b246ef93e679014ef1aa  13635342  1.420088e+09 2015-01-01   \n",
       "221597  0c16693cbe75b246ef93e679014ef1aa  14889780  1.420088e+09 2015-01-01   \n",
       "221598  0c16693cbe75b246ef93e679014ef1aa  12922320  1.420088e+09 2015-01-01   \n",
       "221599  0c16693cbe75b246ef93e679014ef1aa  21094993  1.420088e+09 2015-01-01   \n",
       "221600  0c16693cbe75b246ef93e679014ef1aa   9489502  1.420088e+09 2015-01-01   \n",
       "\n",
       "       quarter  \n",
       "0       2012Q3  \n",
       "1       2012Q3  \n",
       "2       2012Q3  \n",
       "3       2012Q3  \n",
       "4       2012Q3  \n",
       "...        ...  \n",
       "221596  2015Q1  \n",
       "221597  2015Q1  \n",
       "221598  2015Q1  \n",
       "221599  2015Q1  \n",
       "221600  2015Q1  \n",
       "\n",
       "[221601 rows x 5 columns]"
      ]
     },
     "execution_count": 35,
     "metadata": {},
     "output_type": "execute_result"
    }
   ],
   "source": [
    "sampled_df2 = df_inter.loc[~df_inter.user_id.isin(list_users_1_interaction)].reset_index(drop=True)\n",
    "sampled_df2"
   ]
  },
  {
   "cell_type": "code",
   "execution_count": 36,
   "metadata": {},
   "outputs": [
    {
     "data": {
      "text/plain": [
       "1959"
      ]
     },
     "execution_count": 36,
     "metadata": {},
     "output_type": "execute_result"
    }
   ],
   "source": [
    "sampled_df2.user_id.nunique()"
   ]
  },
  {
   "cell_type": "code",
   "execution_count": 37,
   "metadata": {},
   "outputs": [
    {
     "data": {
      "text/html": [
       "<div>\n",
       "<style scoped>\n",
       "    .dataframe tbody tr th:only-of-type {\n",
       "        vertical-align: middle;\n",
       "    }\n",
       "\n",
       "    .dataframe tbody tr th {\n",
       "        vertical-align: top;\n",
       "    }\n",
       "\n",
       "    .dataframe thead th {\n",
       "        text-align: right;\n",
       "    }\n",
       "</style>\n",
       "<table border=\"1\" class=\"dataframe\">\n",
       "  <thead>\n",
       "    <tr style=\"text-align: right;\">\n",
       "      <th></th>\n",
       "      <th>quarter</th>\n",
       "      <th>user_id</th>\n",
       "      <th>n_inter</th>\n",
       "    </tr>\n",
       "  </thead>\n",
       "  <tbody>\n",
       "    <tr>\n",
       "      <th>0</th>\n",
       "      <td>2012Q3</td>\n",
       "      <td>001aa4da5b2c1c53765b168224c7f106</td>\n",
       "      <td>2</td>\n",
       "    </tr>\n",
       "    <tr>\n",
       "      <th>1</th>\n",
       "      <td>2012Q3</td>\n",
       "      <td>002e4cdbb30a0fd5c00ef486c6e3bd6b</td>\n",
       "      <td>33</td>\n",
       "    </tr>\n",
       "    <tr>\n",
       "      <th>2</th>\n",
       "      <td>2012Q3</td>\n",
       "      <td>00331de137bbbda874c4c4463a46bb32</td>\n",
       "      <td>8</td>\n",
       "    </tr>\n",
       "    <tr>\n",
       "      <th>3</th>\n",
       "      <td>2012Q3</td>\n",
       "      <td>004f6d189c4546a39db2162986c0d9e1</td>\n",
       "      <td>137</td>\n",
       "    </tr>\n",
       "    <tr>\n",
       "      <th>4</th>\n",
       "      <td>2012Q3</td>\n",
       "      <td>00533a61db8ca4525e160f853c22ce5f</td>\n",
       "      <td>4</td>\n",
       "    </tr>\n",
       "    <tr>\n",
       "      <th>...</th>\n",
       "      <td>...</td>\n",
       "      <td>...</td>\n",
       "      <td>...</td>\n",
       "    </tr>\n",
       "    <tr>\n",
       "      <th>32289</th>\n",
       "      <td>2015Q1</td>\n",
       "      <td>ff4ed175e424528f64ea534d6fedc5b4</td>\n",
       "      <td>9</td>\n",
       "    </tr>\n",
       "    <tr>\n",
       "      <th>32290</th>\n",
       "      <td>2015Q1</td>\n",
       "      <td>ff5c5de14d2edd9055f86c43de19860b</td>\n",
       "      <td>3</td>\n",
       "    </tr>\n",
       "    <tr>\n",
       "      <th>32291</th>\n",
       "      <td>2015Q1</td>\n",
       "      <td>ff6df5640dc4cb5ccaf73dac0462612d</td>\n",
       "      <td>4</td>\n",
       "    </tr>\n",
       "    <tr>\n",
       "      <th>32292</th>\n",
       "      <td>2015Q1</td>\n",
       "      <td>ffd0aba8d59263c2d541c22f7ecad571</td>\n",
       "      <td>1</td>\n",
       "    </tr>\n",
       "    <tr>\n",
       "      <th>32293</th>\n",
       "      <td>2015Q1</td>\n",
       "      <td>ffeca3c2b7d21f3b57b0b7c3cfe86c5d</td>\n",
       "      <td>4</td>\n",
       "    </tr>\n",
       "  </tbody>\n",
       "</table>\n",
       "<p>32294 rows × 3 columns</p>\n",
       "</div>"
      ],
      "text/plain": [
       "      quarter                           user_id  n_inter\n",
       "0      2012Q3  001aa4da5b2c1c53765b168224c7f106        2\n",
       "1      2012Q3  002e4cdbb30a0fd5c00ef486c6e3bd6b       33\n",
       "2      2012Q3  00331de137bbbda874c4c4463a46bb32        8\n",
       "3      2012Q3  004f6d189c4546a39db2162986c0d9e1      137\n",
       "4      2012Q3  00533a61db8ca4525e160f853c22ce5f        4\n",
       "...       ...                               ...      ...\n",
       "32289  2015Q1  ff4ed175e424528f64ea534d6fedc5b4        9\n",
       "32290  2015Q1  ff5c5de14d2edd9055f86c43de19860b        3\n",
       "32291  2015Q1  ff6df5640dc4cb5ccaf73dac0462612d        4\n",
       "32292  2015Q1  ffd0aba8d59263c2d541c22f7ecad571        1\n",
       "32293  2015Q1  ffeca3c2b7d21f3b57b0b7c3cfe86c5d        4\n",
       "\n",
       "[32294 rows x 3 columns]"
      ]
     },
     "execution_count": 37,
     "metadata": {},
     "output_type": "execute_result"
    }
   ],
   "source": [
    "_sdf = sampled_df[['user_id', 'quarter']].groupby(['quarter', 'user_id']).size().reset_index(name='n_inter')\n",
    "_sdf"
   ]
  },
  {
   "cell_type": "code",
   "execution_count": 38,
   "metadata": {},
   "outputs": [
    {
     "data": {
      "text/plain": [
       "quarter\n",
       "2012Q3    371\n",
       "2012Q4    510\n",
       "2013Q1    467\n",
       "2013Q2    493\n",
       "2013Q3    537\n",
       "2013Q4    548\n",
       "2014Q1    535\n",
       "2014Q2    520\n",
       "2014Q3    532\n",
       "2014Q4    534\n",
       "2015Q1    627\n",
       "Freq: Q-DEC, Name: count, dtype: int64"
      ]
     },
     "execution_count": 38,
     "metadata": {},
     "output_type": "execute_result"
    }
   ],
   "source": [
    "_sdf.loc[_sdf['n_inter']==1, 'quarter'].value_counts().sort_index()"
   ]
  },
  {
   "cell_type": "code",
   "execution_count": 39,
   "metadata": {},
   "outputs": [
    {
     "data": {
      "text/plain": [
       "9        2012Q3\n",
       "23       2012Q3\n",
       "39       2012Q3\n",
       "72       2012Q3\n",
       "78       2012Q3\n",
       "          ...  \n",
       "32275    2015Q1\n",
       "32278    2015Q1\n",
       "32282    2015Q1\n",
       "32284    2015Q1\n",
       "32292    2015Q1\n",
       "Name: quarter, Length: 5674, dtype: period[Q-DEC]"
      ]
     },
     "execution_count": 39,
     "metadata": {},
     "output_type": "execute_result"
    }
   ],
   "source": [
    "_sdf.loc[_sdf['n_inter']==1, 'quarter']#.sort_index()"
   ]
  },
  {
   "cell_type": "code",
   "execution_count": 40,
   "metadata": {},
   "outputs": [
    {
     "data": {
      "text/plain": [
       "Series([], Freq: Q-DEC, Name: count, dtype: int64)"
      ]
     },
     "execution_count": 40,
     "metadata": {},
     "output_type": "execute_result"
    }
   ],
   "source": [
    "_sdf2 = sampled_df2[['user_id', 'quarter']].groupby(['quarter', 'user_id']).size().reset_index(name='n_inter')\n",
    "_sdf2.loc[_sdf2['n_inter']==1, 'quarter'].value_counts().sort_index()"
   ]
  },
  {
   "cell_type": "code",
   "execution_count": 41,
   "metadata": {},
   "outputs": [],
   "source": [
    "from utils.generate_artificial_random_dataset import validate_folderpath\n",
    "\n",
    "save_path = 'processed_datasets/natural_data/goodreads/'\n",
    "folderpath = save_path+base_filename+'/'\n",
    "validate_folderpath(folderpath)\n",
    "sampled_df2.to_csv(folderpath+'more_2interQ_df.csv', index=False)"
   ]
  },
  {
   "cell_type": "code",
   "execution_count": null,
   "metadata": {},
   "outputs": [],
   "source": []
  },
  {
   "cell_type": "markdown",
   "metadata": {},
   "source": [
    "todo: run notebook 09_2 (notebook 08 copy), with new dataset, recall @20 and recall@1\n",
    "if this not work, see rec list and test"
   ]
  },
  {
   "cell_type": "markdown",
   "metadata": {},
   "source": []
  }
 ],
 "metadata": {
  "kernelspec": {
   "display_name": "algorithms_transparency",
   "language": "python",
   "name": "python3"
  },
  "language_info": {
   "codemirror_mode": {
    "name": "ipython",
    "version": 3
   },
   "file_extension": ".py",
   "mimetype": "text/x-python",
   "name": "python",
   "nbconvert_exporter": "python",
   "pygments_lexer": "ipython3",
   "version": "3.9.21"
  }
 },
 "nbformat": 4,
 "nbformat_minor": 2
}
